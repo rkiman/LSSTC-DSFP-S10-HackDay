{
 "cells": [
  {
   "cell_type": "code",
   "execution_count": 2,
   "metadata": {},
   "outputs": [],
   "source": [
    "from astropy.io import fits\n",
    "from astropy.table import Table\n",
    "import numpy as np\n",
    "import matplotlib.pyplot as plt"
   ]
  },
  {
   "cell_type": "code",
   "execution_count": 49,
   "metadata": {},
   "outputs": [],
   "source": [
    "catalog = fits.open('Catalogs/mlsdss_ages.fits')"
   ]
  },
  {
   "cell_type": "code",
   "execution_count": 51,
   "metadata": {},
   "outputs": [
    {
     "data": {
      "text/plain": [
       "ColDefs(\n",
       "    name = 'MJD'; format = 'J'; unit = 'd'\n",
       "    name = 'PLATE'; format = 'I'\n",
       "    name = 'FIBER'; format = 'J'\n",
       "    name = 'solution_id'; format = 'K'\n",
       "    name = 'designation'; format = '28A'\n",
       "    name = 'source_id'; format = 'K'\n",
       "    name = 'ref_epoch_gaia'; format = 'K'; unit = 'yr'\n",
       "    name = 'SPT'; format = 'E'\n",
       "    name = 'RA'; format = 'D'; unit = 'deg'\n",
       "    name = 'RA_ERR'; format = 'D'; unit = 'mas'\n",
       "    name = 'DEC'; format = 'D'; unit = 'deg'\n",
       "    name = 'DEC_ERR'; format = 'D'; unit = 'mas'\n",
       "    name = 'PMRA'; format = 'D'; unit = 'mas/yr'\n",
       "    name = 'PMRA_ERR'; format = 'D'; unit = 'mas/yr'\n",
       "    name = 'PMDEC'; format = 'D'; unit = 'mas/yr'\n",
       "    name = 'PMDEC_ERR'; format = 'D'; unit = 'mas/yr'\n",
       "    name = 'RV'; format = 'E'; unit = 'km/s'\n",
       "    name = 'RV_ERR'; format = 'E'; unit = 'km/s'\n",
       "    name = 'RA_SDSS'; format = 'D'; unit = 'deg'\n",
       "    name = 'DEC_SDSS'; format = 'D'; unit = 'deg'\n",
       "    name = 'PSFMAG'; format = '5E'; unit = 'mag'\n",
       "    name = 'PSFMAG_ERR'; format = '5E'; unit = 'mag'\n",
       "    name = 'GOODPHOT_SDSS'; format = 'K'\n",
       "    name = 'EXTINCTION'; format = '5E'; unit = 'mag'\n",
       "    name = 'PMRA_SDSS'; format = 'E'; unit = 'mas/yr'\n",
       "    name = 'PMRA_ERR_SDSS'; format = 'E'; unit = 'mas/yr'\n",
       "    name = 'PMDEC_SDSS'; format = 'E'; unit = 'mas/yr'\n",
       "    name = 'PMDEC_ERR_SDSS'; format = 'E'; unit = 'mas/yr'\n",
       "    name = 'GOODPM_SDSS'; format = 'I'\n",
       "    name = 'MJD_2MASS'; format = '12A'; unit = 'd'\n",
       "    name = 'RA_2MASS'; format = 'D'; unit = 'deg'\n",
       "    name = 'DEC_2MASS'; format = 'D'; unit = 'deg'\n",
       "    name = 'MAG_2MASS'; format = '3E'; unit = 'mag'\n",
       "    name = 'MAG_ERR_2MASS'; format = '3E'; unit = 'mag'\n",
       "    name = 'ACTHA'; format = 'I'\n",
       "    name = 'EWHA'; format = 'E'; unit = 'Angstrom'\n",
       "    name = 'EWHA_ERR'; format = 'E'; unit = 'Angstrom'\n",
       "    name = 'LHALBOL'; format = 'E'\n",
       "    name = 'LHALBOL_ERR'; format = 'E'\n",
       "    name = 'GOODMATCH'; format = 'I'\n",
       "    name = 'parallax'; format = 'D'; unit = 'mas'\n",
       "    name = 'parallax_error'; format = 'D'; unit = 'mas'\n",
       "    name = 'astrometric_n_good_obs_al'; format = 'J'\n",
       "    name = 'astrometric_chi2_al'; format = 'E'\n",
       "    name = 'visibility_periods_used'; format = 'I'\n",
       "    name = 'phot_g_mean_flux'; format = 'D'; unit = 'electron/s'\n",
       "    name = 'phot_g_mean_flux_error'; format = 'D'; unit = 'electron/s'\n",
       "    name = 'phot_g_mean_flux_over_error'; format = 'E'; unit = 'electron/s'\n",
       "    name = 'phot_g_mean_mag'; format = 'E'; unit = 'mag'\n",
       "    name = 'phot_bp_mean_flux'; format = 'D'; unit = 'electron/s'\n",
       "    name = 'phot_bp_mean_flux_error'; format = 'D'; unit = 'electron/s'\n",
       "    name = 'phot_bp_mean_flux_over_error'; format = 'E'; unit = 'electron/s'\n",
       "    name = 'phot_bp_mean_mag'; format = 'E'; unit = 'mag'\n",
       "    name = 'phot_rp_mean_flux'; format = 'D'; unit = 'electron/s'\n",
       "    name = 'phot_rp_mean_flux_error'; format = 'D'; unit = 'electron/s'\n",
       "    name = 'phot_rp_mean_flux_over_error'; format = 'E'; unit = 'electron/s'\n",
       "    name = 'phot_rp_mean_mag'; format = 'E'; unit = 'mag'\n",
       "    name = 'phot_bp_rp_excess_factor'; format = 'E'\n",
       "    name = 'r_est'; format = 'D'; unit = 'pc'\n",
       "    name = 'r_lo'; format = 'D'; unit = 'pc'\n",
       "    name = 'r_hi'; format = 'D'; unit = 'pc'\n",
       "    name = 'r_len'; format = 'D'; unit = 'pc'\n",
       "    name = 'V_R'; format = 'E'; unit = 'km/s'\n",
       "    name = 'V_R_ERR'; format = 'E'; unit = 'km/s'\n",
       "    name = 'V_T'; format = 'E'; unit = 'km/s'\n",
       "    name = 'V_T_ERR'; format = 'E'; unit = 'km/s'\n",
       "    name = 'V_Z'; format = 'E'; unit = 'km/s'\n",
       "    name = 'V_Z_ERR'; format = 'E'; unit = 'km/s'\n",
       "    name = 'J_Z'; format = 'E'; unit = 'kpc km/s'\n",
       "    name = 'J_Z_16per'; format = 'E'; unit = 'kpc km/s'\n",
       "    name = 'J_Z_64per'; format = 'E'; unit = 'kpc km/s'\n",
       "    name = 'WDM'; format = 'I'\n",
       "    name = 'astrometric_sample'; format = 'I'\n",
       "    name = 'photometric_sample_subg'; format = 'I'\n",
       "    name = 'photometric_sample_subred'; format = 'I'\n",
       "    name = 'photometric_sample_submix'; format = 'I'\n",
       "    name = 'MJD_m'; format = 'J'; null = -2147483648\n",
       "    name = 'PLATE_m'; format = 'I'; null = -32768\n",
       "    name = 'FIBER_m'; format = 'I'; null = -32768\n",
       "    name = 'solution_id_m'; format = 'E'\n",
       "    name = 'designation_m'; format = '28A'\n",
       "    name = 'source_id_m'; format = 'E'\n",
       "    name = 'ref_epoch_gaia_m'; format = 'I'; null = -32768\n",
       "    name = 'SPT_m'; format = 'I'; null = -32768\n",
       "    name = 'ra_m'; format = 'D'\n",
       "    name = 'ra_error_m'; format = 'D'\n",
       "    name = 'dec_m'; format = 'D'\n",
       "    name = 'dec_error_m'; format = 'D'\n",
       "    name = 'pmra_m'; format = 'D'\n",
       "    name = 'pmra_error_m'; format = 'D'\n",
       "    name = 'pmdec_m'; format = 'D'\n",
       "    name = 'pmdec_error_m'; format = 'D'\n",
       "    name = 'rv_m'; format = 'D'\n",
       "    name = 'rv_error_m'; format = 'D'\n",
       "    name = 'ra_sdss_m'; format = 'D'\n",
       "    name = 'dec_sdss_m'; format = 'D'\n",
       "    name = 'psfmag_m'; format = '55A'\n",
       "    name = 'psfmag_error_m'; format = '64A'\n",
       "    name = 'goodphot_sdss_m'; format = 'I'; null = -32768\n",
       "    name = 'extinction_m'; format = '65A'\n",
       "    name = 'pmra_sdss_m'; format = 'D'\n",
       "    name = 'pmra_error_sdss_m'; format = 'D'\n",
       "    name = 'pmdec_sdss_m'; format = 'D'\n",
       "    name = 'pmdec_error_sdss_m'; format = 'D'\n",
       "    name = 'goodpm_sdss_m'; format = 'I'; null = -32768\n",
       "    name = 'mjd_2mass_m'; format = 'D'\n",
       "    name = 'ra_2mass_m'; format = 'D'\n",
       "    name = 'dec_2mass_m'; format = 'D'\n",
       "    name = 'mag_2mass_m'; format = '24A'\n",
       "    name = 'mag_error_2mass_m'; format = '21A'\n",
       "    name = 'actha_m'; format = 'I'; null = -32768\n",
       "    name = 'ewha_m'; format = 'D'\n",
       "    name = 'ewha_error_m'; format = 'D'\n",
       "    name = 'lhalbol_m'; format = 'E'\n",
       "    name = 'lhalbol_error_m'; format = 'E'\n",
       "    name = 'goodmatch_m'; format = 'I'; null = -32768\n",
       "    name = 'parallax_m'; format = 'D'\n",
       "    name = 'parallax_error_m'; format = 'D'\n",
       "    name = 'astrometric_n_good_obs_al_m'; format = 'I'; null = -32768\n",
       "    name = 'astrometric_chi2_al_m'; format = 'D'\n",
       "    name = 'visibility_periods_used_m'; format = 'I'; null = -32768\n",
       "    name = 'phot_g_mean_flux_m'; format = 'D'\n",
       "    name = 'phot_g_mean_flux_error_m'; format = 'D'\n",
       "    name = 'phot_g_mean_flux_over_error_m'; format = 'D'\n",
       "    name = 'phot_g_mean_mag_m'; format = 'D'\n",
       "    name = 'phot_bp_mean_flux_m'; format = 'D'\n",
       "    name = 'phot_bp_mean_flux_error_m'; format = 'D'\n",
       "    name = 'phot_bp_mean_flux_over_error_m'; format = 'D'\n",
       "    name = 'phot_bp_mean_mag_m'; format = 'D'\n",
       "    name = 'phot_rp_mean_flux_m'; format = 'D'\n",
       "    name = 'phot_rp_mean_flux_error_m'; format = 'D'\n",
       "    name = 'phot_rp_mean_flux_over_error_m'; format = 'D'\n",
       "    name = 'phot_rp_mean_mag_m'; format = 'D'\n",
       "    name = 'phot_bp_rp_excess_factor_m'; format = 'D'\n",
       "    name = 'r_est_m'; format = 'D'\n",
       "    name = 'r_lo_m'; format = 'D'\n",
       "    name = 'r_hi_m'; format = 'D'\n",
       "    name = 'r_len_m'; format = 'D'\n",
       "    name = 'V_R_m'; format = 'D'\n",
       "    name = 'V_R_ERR_m'; format = 'D'\n",
       "    name = 'V_T_m'; format = 'D'\n",
       "    name = 'V_T_ERR_m'; format = 'D'\n",
       "    name = 'V_Z_m'; format = 'D'\n",
       "    name = 'V_Z_ERR_m'; format = 'D'\n",
       "    name = 'J_Z_m'; format = 'D'\n",
       "    name = 'J_Z_16per_m'; format = 'D'\n",
       "    name = 'J_Z_64per_m'; format = 'D'\n",
       "    name = 'WDM_m'; format = 'I'; null = -32768\n",
       "    name = 'astrometric_sample_m'; format = 'I'; null = -32768\n",
       "    name = 'photometric_sample_subg_m'; format = 'I'; null = -32768\n",
       "    name = 'photometric_sample_subred_m'; format = 'I'; null = -32768\n",
       "    name = 'photometric_sample_submix_m'; format = 'I'; null = -32768\n",
       "    name = 'WDJ_name_wd'; format = '22A'\n",
       "    name = 'absG_wd'; format = 'D'\n",
       "    name = 'tot_pm_wd'; format = 'D'\n",
       "    name = 'designation_wd'; format = '28A'\n",
       "    name = 'source_id_wd'; format = 'E'\n",
       "    name = 'random_index_wd'; format = 'J'; null = -2147483648\n",
       "    name = 'ra_wd'; format = 'D'\n",
       "    name = 'ra_error_wd'; format = 'D'\n",
       "    name = 'dec_wd'; format = 'D'\n",
       "    name = 'dec_error_wd'; format = 'D'\n",
       "    name = 'parallax_wd'; format = 'D'\n",
       "    name = 'parallax_error_wd'; format = 'D'\n",
       "    name = 'pmra_wd'; format = 'D'\n",
       "    name = 'pmra_error_wd'; format = 'D'\n",
       "    name = 'pmdec_wd'; format = 'D'\n",
       "    name = 'pmdec_error_wd'; format = 'D'\n",
       "    name = 'astrometric_excess_noise_wd'; format = 'D'\n",
       "    name = 'visibility_periods_used_wd'; format = 'I'; null = -32768\n",
       "    name = 'astrometric_sigma5d_max_wd'; format = 'D'\n",
       "    name = 'duplicated_source_wd'; format = 'L'\n",
       "    name = 'phot_g_mean_flux_wd'; format = 'D'\n",
       "    name = 'phot_g_mean_flux_error_wd'; format = 'D'\n",
       "    name = 'phot_g_mean_mag_wd'; format = 'D'\n",
       "    name = 'phot_bp_mean_flux_wd'; format = 'D'\n",
       "    name = 'phot_bp_mean_flux_error_wd'; format = 'D'\n",
       "    name = 'phot_bp_mean_mag_wd'; format = 'D'\n",
       "    name = 'phot_rp_mean_flux_wd'; format = 'D'\n",
       "    name = 'phot_rp_mean_flux_error_wd'; format = 'D'\n",
       "    name = 'phot_rp_mean_mag_wd'; format = 'D'\n",
       "    name = 'phot_bp_rp_excess_factor_wd'; format = 'D'\n",
       "    name = 'bp_rp_wd'; format = 'D'\n",
       "    name = 'l_wd'; format = 'D'\n",
       "    name = 'b_wd'; format = 'D'\n",
       "    name = 'density_wd'; format = 'D'\n",
       "    name = 'AG_wd'; format = 'D'\n",
       "    name = 'SDSS12_wd'; format = '19A'\n",
       "    name = 'umag_wd'; format = 'E'\n",
       "    name = 'e_umag_wd'; format = 'E'\n",
       "    name = 'gmag_wd'; format = 'E'\n",
       "    name = 'e_gmag_wd'; format = 'E'\n",
       "    name = 'rmag_wd'; format = 'E'\n",
       "    name = 'e_rmag_wd'; format = 'E'\n",
       "    name = 'imag_wd'; format = 'E'\n",
       "    name = 'e_imag_wd'; format = 'E'\n",
       "    name = 'zmag_wd'; format = 'E'\n",
       "    name = 'e_zmag_wd'; format = 'E'\n",
       "    name = 'Plate_wd'; format = 'I'; null = -32768\n",
       "    name = 'mjd_wd'; format = 'J'; null = -2147483648\n",
       "    name = 'fiberID_wd'; format = 'I'; null = -32768\n",
       "    name = 'S/N_wd'; format = 'D'\n",
       "    name = 'my_class_wd'; format = '3A'\n",
       "    name = 'matching_wd'; format = 'D'\n",
       "    name = 'Pwd_wd'; format = 'D'\n",
       "    name = 'test_Pwd_wd'; format = 'D'\n",
       "    name = 'new_Pwd_wd'; format = 'D'\n",
       "    name = 'Pwd_flag_wd'; format = 'I'; null = -32768\n",
       "    name = 'Teff_wd'; format = 'D'\n",
       "    name = 'eTeff_wd'; format = 'D'\n",
       "    name = 'log_g_wd'; format = 'D'\n",
       "    name = 'elog_g_wd'; format = 'D'\n",
       "    name = 'mass_wd'; format = 'D'\n",
       "    name = 'emass_wd'; format = 'D'\n",
       "    name = 'cooling_age'; format = 'E'\n",
       "    name = 'mass_MS'; format = 'D'\n",
       "    name = 'MS_age'; format = 'E'\n",
       "    name = 'Total_Age'; format = 'E'\n",
       "    name = 'chi2_wd'; format = 'D'\n",
       "    name = 'Teff_He_wd'; format = 'D'\n",
       "    name = 'eTeff_He_wd'; format = 'D'\n",
       "    name = 'log_g_He_wd'; format = 'D'\n",
       "    name = 'elog_g_He_wd'; format = 'D'\n",
       "    name = 'mass_He_wd'; format = 'D'\n",
       "    name = 'emass_He_wd'; format = 'D'\n",
       "    name = 'chisq_He_wd'; format = 'D'\n",
       "    name = 'super_match_wd'; format = 'E'\n",
       "    name = 'GroupID_wd'; format = 'I'; null = -32768\n",
       "    name = 'GroupSize_wd'; format = 'I'; null = -32768\n",
       "    name = 'Separation_m_wd'; format = 'D'\n",
       "    name = 'Separation'; format = 'D'; unit = 'arcsec'\n",
       ")"
      ]
     },
     "execution_count": 51,
     "metadata": {},
     "output_type": "execute_result"
    }
   ],
   "source": [
    "catalog[1].columns"
   ]
  },
  {
   "cell_type": "code",
   "execution_count": 59,
   "metadata": {},
   "outputs": [],
   "source": [
    "ages_all = catalog[1].data['Total_Age']\n",
    "spt_all = catalog[1].data['SPT']\n",
    "#spt_all2 = catalog[1].data['SpT']"
   ]
  },
  {
   "cell_type": "code",
   "execution_count": 62,
   "metadata": {},
   "outputs": [],
   "source": [
    "mask_w_ages = ~np.isnan(ages_all)\n",
    "ages = ages_all[mask_w_ages]\n",
    "spt = spt_all[mask_w_ages]"
   ]
  },
  {
   "cell_type": "code",
   "execution_count": 70,
   "metadata": {},
   "outputs": [
    {
     "data": {
      "image/png": "[encoded data removed]",
      "text/plain": [
       "<Figure size 432x288 with 1 Axes>"
      ]
     },
     "metadata": {
      "needs_background": "light"
     },
     "output_type": "display_data"
    }
   ],
   "source": [
    "plt.hist(spt,bins=np.arange(0,10),histtype='bar',rwidth=0.8,align='left')\n",
    "plt.show()"
   ]
  },
  {
   "cell_type": "code",
   "execution_count": 77,
   "metadata": {},
   "outputs": [
    {
     "name": "stdout",
     "output_type": "stream",
     "text": [
      "6241\n"
     ]
    }
   ],
   "source": [
    "data = Table()\n",
    "\n",
    "spt_keep = 6\n",
    "mask_spt = spt_all == spt_keep\n",
    "\n",
    "data['spt'] = spt_all[mask_spt]\n",
    "data['age'] = ages_all[mask_spt]\n",
    "data['lhalbol'] = catalog[1].data['LHALBOL'][mask_spt]\n",
    "data['lhalbol_error'] = np.sqrt((1/(np.log(10)*catalog[1].data['LHALBOL'][mask_spt])*\n",
    "                                 catalog[1].data['LHALBOL_ERR'][mask_spt])**2)\n",
    "data['actha'] = catalog[1].data['ACTHA'][mask_spt]\n",
    "\n",
    "print(len(data['spt']))\n",
    "\n",
    "data.write('Catalogs/data.fits',format='fits',overwrite=True)"
   ]
  },
  {
   "cell_type": "code",
   "execution_count": 84,
   "metadata": {},
   "outputs": [
    {
     "data": {
      "text/plain": [
       "0.22200624644756317"
      ]
     },
     "execution_count": 84,
     "metadata": {},
     "output_type": "execute_result"
    }
   ],
   "source": [
    "np.percentile(data['lhalbol_error'],50)"
   ]
  },
  {
   "cell_type": "code",
   "execution_count": 86,
   "metadata": {},
   "outputs": [
    {
     "data": {
      "text/plain": [
       "(-1, 25)"
      ]
     },
     "execution_count": 86,
     "metadata": {},
     "output_type": "execute_result"
    },
    {
     "data": {
      "image/png": "[encoded data removed]",
      "text/plain": [
       "<Figure size 432x288 with 1 Axes>"
      ]
     },
     "metadata": {
      "needs_background": "light"
     },
     "output_type": "display_data"
    }
   ],
   "source": [
    "plt.hist(data['lhalbol_error'][data['lhalbol_error']<25],bins=300)\n",
    "plt.axvline(x=np.median(data['lhalbol_error']),color='k')\n",
    "plt.yscale('log')\n",
    "plt.xlim(-1,25)"
   ]
  },
  {
   "cell_type": "code",
   "execution_count": null,
   "metadata": {},
   "outputs": [],
   "source": []
  }
 ],
 "metadata": {
  "kernelspec": {
   "display_name": "Python 3",
   "language": "python",
   "name": "python3"
  },
  "language_info": {
   "codemirror_mode": {
    "name": "ipython",
    "version": 3
   },
   "file_extension": ".py",
   "mimetype": "text/x-python",
   "name": "python",
   "nbconvert_exporter": "python",
   "pygments_lexer": "ipython3",
   "version": "3.7.3"
  }
 },
 "nbformat": 4,
 "nbformat_minor": 2
}
